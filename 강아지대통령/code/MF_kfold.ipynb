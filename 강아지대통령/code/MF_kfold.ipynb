{
  "nbformat": 4,
  "nbformat_minor": 0,
  "metadata": {
    "colab": {
      "name": "MF_kfold",
      "provenance": [],
      "collapsed_sections": [],
      "machine_shape": "hm"
    },
    "kernelspec": {
      "name": "python3",
      "display_name": "Python 3"
    },
    "language_info": {
      "name": "python"
    }
  },
  "cells": [
    {
      "cell_type": "code",
      "execution_count": null,
      "metadata": {
        "colab": {
          "base_uri": "https://localhost:8080/"
        },
        "id": "0zX_RuVyh1s-",
        "outputId": "313549aa-9458-43ac-825d-66359484e8dd"
      },
      "outputs": [
        {
          "output_type": "stream",
          "name": "stdout",
          "text": [
            "Drive already mounted at /content/drive; to attempt to forcibly remount, call drive.mount(\"/content/drive\", force_remount=True).\n"
          ]
        }
      ],
      "source": [
        "# 구글 드라이브 마운트\n",
        "from google.colab import drive\n",
        "\n",
        "drive.mount('/content/drive')"
      ]
    },
    {
      "cell_type": "code",
      "source": [
        "# 필요 라이브러리 Import \n",
        "import pandas as pd \n",
        "import numpy as np \n",
        "from sklearn.model_selection import train_test_split "
      ],
      "metadata": {
        "id": "e_AzxPYQh_SR"
      },
      "execution_count": null,
      "outputs": []
    },
    {
      "cell_type": "code",
      "source": [
        "dog_ratings = pd.read_csv('/content/drive/MyDrive/LAMDA/pet_data/recom_dataset/dog_data_kfold.csv')\n",
        "dog_ratings = dog_ratings.drop('regdt', axis=1)"
      ],
      "metadata": {
        "id": "-HipukA4iAwF"
      },
      "execution_count": null,
      "outputs": []
    },
    {
      "cell_type": "code",
      "source": [
        "dog_item = pd.read_csv('/content/drive/MyDrive/LAMDA/pet_data/recom_dataset/dog_item.csv')\n",
        "dog_item.set_index('goodsno', inplace=True)"
      ],
      "metadata": {
        "id": "YmWy94WFVM1V"
      },
      "execution_count": null,
      "outputs": []
    },
    {
      "cell_type": "code",
      "source": [
        "X = dog_ratings.copy()\n",
        "\n",
        "X.columns"
      ],
      "metadata": {
        "colab": {
          "base_uri": "https://localhost:8080/"
        },
        "id": "HAFgVjRAVo0F",
        "outputId": "ee202388-cc71-4ebc-d135-94b2ea5f1a94"
      },
      "execution_count": null,
      "outputs": [
        {
          "output_type": "execute_result",
          "data": {
            "text/plain": [
              "Index(['m_no', 'goodsno', 'point', 'pet_age', 'dogname'], dtype='object')"
            ]
          },
          "metadata": {},
          "execution_count": 47
        }
      ]
    },
    {
      "cell_type": "code",
      "source": [
        "class NEW_MF():\n",
        "  def __init__(self, ratings, K, alpha, beta, iterations, verbose=True):\n",
        "    self.R = np.array(ratings)   # DataFrame으로 전달된 평점(ratings)을 numpy array로 바꾸어서 저장 \n",
        "    item_id_index = []   # 아이디를 인덱스로 매핑해주는 맵 \n",
        "    index_item_id = []   # 인덱스를 아이디로 매핑해주는 맵 \n",
        "    for i, one_id in enumerate(ratings):   # 각 아이템에 대해 \n",
        "      item_id_index.append([one_id, i])   # 현재 아이템의 아이디와 인덱스 저장  \n",
        "      index_item_id.append([i, one_id])   # 현재 아이템의 인덱스와 아이디 저장 \n",
        "    self.item_id_index = dict(item_id_index)\n",
        "    self.index_item_id = dict(index_item_id)\n",
        "    user_id_index = []\n",
        "    index_user_id = [] \n",
        "    for i, one_id in enumerate(ratings.T):   # 같은 작업을 사용자 아이디에 대해 실행 \n",
        "      user_id_index.append([one_id, i])\n",
        "      index_user_id.append([i, one_id])\n",
        "    self.user_id_index = dict(user_id_index)\n",
        "    self.index_user_idx = dict(index_user_id)\n",
        "\n",
        "    self.num_users, self.num_items = np.shape(self.R)   # 사용자 수와 아이템 수를 받아옴 \n",
        "    self.K = K   # K: 잠재요인(latent factor)의 수 \n",
        "    self.alpha = alpha  # alpha: 학습률 \n",
        "    self.beta = beta   # beta: 정규화 계수 \n",
        "    self.iterations = iterations   # SGD의 계산을 할 때의 반복 횟수 \n",
        "    self.verbose = verbose   # SGD의 중간 학습 과정을 출력할 것인가 \n",
        "  \n",
        "  def rmse(self):\n",
        "    '''\n",
        "    현재의 P, Q 행렬을 이용해 Root Mean Squared Error (RMSE) 계산 \n",
        "    '''\n",
        "    xs, ys = self.R.nonzero()   # R에서 평점이 있는 요소(0이 아닌)의 인덱스를 가져옴, [행 인덱스], [열 인덱스] 반환 \n",
        "    self.predictions = []\n",
        "    self.errors = []\n",
        "    for x, y in zip(xs, ys):   # 평점이 있는 요소 각각에 대해 \n",
        "      prediction = self.get_prediction(x, y)   # 사용자 x, 아이템 y에 대해 평점 예측치 계산 \n",
        "      self.predictions.append(prediction)   # 예측값을 예측값 리스트에 추가 \n",
        "      self.errors.append(self.R[x, y] - prediction)   # 실제값(R)과 예측값의 차이(errors)를 계산하여 오차값 리스트에 추가 \n",
        "    \n",
        "    # 예측값과 에러들을 numpy array로 변홚 \n",
        "    self.predictions = np.array(self.predictions)   \n",
        "    self.errors = np.array(self.errors)\n",
        "    return np.sqrt(np.mean(self.errors**2))\n",
        "  \n",
        "  def val_rmse(self):\n",
        "    '''\n",
        "    현재의 P, Q 행렬을 이용해 Root Mean Squared Error (RMSE) 계산 \n",
        "    '''\n",
        "    # xs, ys = self.R.nonzero()   # R에서 평점이 있는 요소(0이 아닌)의 인덱스를 가져옴, [행 인덱스], [열 인덱스] 반환 \n",
        "    val_samples = self.val_samples\n",
        "    self.predictions = []\n",
        "    self.errors = []\n",
        "    for x, y, z in val_samples:   # 평점이 있는 요소 각각에 대해 \n",
        "      prediction = self.get_prediction(x, y)   # 사용자 x, 아이템 y에 대해 평점 예측치 계산 \n",
        "      self.predictions.append(prediction)   # 예측값을 예측값 리스트에 추가 \n",
        "      self.errors.append(self.R[x, y] - prediction)   # 실제값(R)과 예측값의 차이(errors)를 계산하여 오차값 리스트에 추가 \n",
        "    \n",
        "    # 예측값과 에러들을 numpy array로 변홚 \n",
        "    self.predictions = np.array(self.predictions)   \n",
        "    self.errors = np.array(self.errors)\n",
        "    return np.sqrt(np.mean(self.errors**2))\n",
        "\n",
        "  def fit(self):\n",
        "    '''\n",
        "    정해진 반복 횟수만큼 식(2)와 식(4)를 이용하여 P, Q, bu, bd 값 업데이트 \n",
        "    '''\n",
        "    # user-feature, movie-feature matrix 초기화\n",
        "    self.P = np.random.normal(scale=1./self.K, size=(self.num_users, self.K)) \n",
        "    self.Q = np.random.normal(scale=1./self.K, size=(self.num_items, self.K))\n",
        "\n",
        "    # bias 초기화\n",
        "    self.b_u = np.zeros(self.num_users)   # 사용자 평가 경향 bu를 0으로 초기화\n",
        "    self.b_d = np.zeros(self.num_items)   # 아이템 평가 경향 bd를 0으로 초기화 \n",
        "    self.b = np.mean(self.R[self.R.nonzero()])   # 전체평균 b를 구해서 저장 \n",
        "\n",
        "    # training data sample list\n",
        "    # rows, columns = self.R.nonzero()   # 평점행렬 R 중에서 평점이 있는 요소의 인덱스를 가져옴 \n",
        "    # SGD를 적용할 대상 (평점이 있는 요소의 인덱스와 평점)을 리스트로 만들어 sample에 저장 \n",
        "    # self.samples = [(i, j, self.R[i, j]) for i, j in zip(rows, columns)]   \n",
        "\n",
        "    # 주어진 iterations 수만큼 SGD 적용 \n",
        "    training_process = []\n",
        "    for i in range(self.iterations):   # 지정된 반복 횟수만큼 \n",
        "      np.random.shuffle(self.train_samples)   # samples를 임의로 섞음 \n",
        "      self.sgd()   # SGD() 함수 호출 \n",
        "      rmse = self.rmse()   # rmse() 함수 호출 \n",
        "      training_process.append((i+1, rmse))   # 결과 저장 \n",
        "      if self.verbose:  # verbose == True이면 \n",
        "        if (i+1) % 10 == 0:   # 10회 반복마다 결과 표시\n",
        "          print(f'Iteration: {i+1}; Train RMSE = {rmse}')\n",
        "    return training_process\n",
        "\n",
        "  def convert_mno(self, data):\n",
        "    return self.user_id_index[data]\n",
        "\n",
        "  def convert_gno(self, data):\n",
        "    return self.item_id_index[data]\n",
        "\n",
        "  def set_train_val(self, ratings_train):\n",
        "    data_df = ratings_train.copy()\n",
        "    x = data_df \n",
        "    y = data_df['m_no']\n",
        "    x_train, x_val, y_train, y_val = train_test_split(x, y, test_size=0.2, stratify=y, random_state=42)\n",
        "    x_train['m_no'] = x_train['m_no'].apply(self.convert_mno)\n",
        "    x_train['goodsno'] = x_train['goodsno'].apply(self.convert_gno)\n",
        "    x_val['m_no'] = x_val['m_no'].apply(self.convert_mno)\n",
        "    x_val['goodsno'] = x_val['goodsno'].apply(self.convert_gno)\n",
        "    train_samples = [(m_no, goodsno, point) for m_no, goodsno, point in zip(x_train.m_no, x_train.goodsno, x_train.point)]\n",
        "    val_samples = [(m_no, goodsno, point) for m_no, goodsno, point in zip(x_val.m_no, x_val.goodsno, x_val.point)]\n",
        "\n",
        "    self.train_samples = train_samples \n",
        "    self.val_samples = val_samples  \n",
        "\n",
        "  def set_test(self, ratings_test):\n",
        "    '''\n",
        "    분리된 test set을 넘겨받아 클래스 내부의 test set 생성  \n",
        "    '''\n",
        "    test_set = []  # test set에 해당하는 사용자-아이템 평점 저장 배열 \n",
        "    for i in range(len(ratings_test)):   \n",
        "      x = self.user_id_index[ratings_test.iloc[i, 0]]   # 현재 사용자의 인덱스를 받아옴 \n",
        "      y = self.item_id_index[ratings_test.iloc[i, 1]]   # 현재 아이템의 인덱스를 받아옴 \n",
        "      z = ratings_test.iloc[i, 2]   # 현재 사용자-아이템 평점을 받아옴 \n",
        "      test_set.append([x, y, z])   # test_set에 받아온 값들 추가\n",
        "      # 해당 사용자-아이템-평점을 R에서 0으로 지움 (R을 사용해서 모델을 학습하는데, test set은 제외해야 하기 때문)\n",
        "      self.R[x, y] = 0    \n",
        "      self.test_set = test_set  \n",
        "    return test_set\n",
        "\n",
        "  def test_rmse(self):\n",
        "    '''\n",
        "    Test set의 RMSE 값 계산 \n",
        "    '''\n",
        "    error = 0   # error를 0으로 초기화 \n",
        "    for one_set in self.test_set:   # test set에 있는 각각의 사용자-아이템 평점에 대해 \n",
        "      predicted = self.get_prediction(one_set[0], one_set[1])   # 예측 평점을 계산 \n",
        "      error += pow(one_set[2] - predicted, 2)   # 사용자-아이템 평점의 평점 실제값와 예측치의 차이를 구함 \n",
        "    return np.sqrt(error/len(self.test_set))   # RMSE 값 반환 \n",
        "\n",
        "  def test(self):\n",
        "    '''\n",
        "    MF 모델을 SGD 방식으로 훈련하는 함수 \n",
        "    '''\n",
        "    # P, Q, b_u, b_d, b를 초기화 \n",
        "    self.P = np.random.normal(scale=1./self.K, size=(self.num_users, self.K))\n",
        "    self.Q = np.random.normal(scale=1./self.K, size=(self.num_items, self.K))\n",
        "    self.b_u = np.zeros(self.num_users)\n",
        "    self.b_d = np.zeros(self.num_items)\n",
        "    self.b = np.mean(self.R[self.R.nonzero()])\n",
        "\n",
        "    # R에서 평점이 있는 (0이 아닌) 요소의 인덱스를 가져옴 -> R 전체가 train_set이 됨 \n",
        "    # rows, columns = self.R.nonzero()\n",
        "    # train set(R)에 대해서 사용자-아이템 평점 데이터를 구성함 \n",
        "    # self.samples = [(i, j, self.R[i, j]) for i, j in zip(rows, columns)]\n",
        "    training_process = []              \n",
        "\n",
        "    for i in range(self.iterations):  # iterations 수만큼 \n",
        "      np.random.shuffle(self.train_samples)   # 데이터를 섞음 \n",
        "      self.sgd()   # SGD 방법으로 P, Q, bu, bd 업데이트 \n",
        "      rmse1 = self.rmse()   # train set의 RMSE 값을 계산 \n",
        "      rmse2 = self.val_rmse()\n",
        "      rmse3 = self.test_rmse()   # test set의 RMSE 값을 계산 \n",
        "      training_process.append((i+1, rmse1, rmse2, rmse3))   # iteration 수, Train RMSE, Test RMSE 값을 결과에 추가 \n",
        "      if self.verbose:   # verbose = True이면 10회 반복마다 중간 결과 표시  \n",
        "        if (i+1) % 10 == 0:\n",
        "          print('Iteration: %d; Training RMSE=%.4f; Val RMSE = %.4f; Test RMSE = %.4f'%(i+1, rmse1, rmse2, rmse3))\n",
        "    return training_process \n",
        "\n",
        "\n",
        "  def get_one_prediction(self, user_id, item_id):\n",
        "    '''\n",
        "    주어진 user_id와 item_id에 대한 예측치를 계산해서 돌려줌 \n",
        "    '''\n",
        "    return self.get_prediction(self.user_id_index[user_id], self.item_id_index[item_id])\n",
        "\n",
        "  def full_prediction(self):\n",
        "    '''\n",
        "    모든 사용자의 모든 아이템에 대한 예측치를 계산해서 돌려줌 \n",
        "    '''\n",
        "    return self.b + self.b_u[:, np.newaxis] + self.b_d[np.newaxis, :] + self.P.dot(self.Q.T)\n",
        "\n",
        "  def get_prediction(self, i, j):\n",
        "    '''\n",
        "    평점 예측값을 구하는 함수 \n",
        "    '''\n",
        "    # 사용자 i, 아이템 j에 대한 평점 예측치를 식 (3)을 이용해 계산 \n",
        "    prediction = self.b + self.b_u[i] + self.b_d[j] + self.P[i, :].dot(self.Q[j, :].T)\n",
        "    if prediction > 5: \n",
        "      prediction = 5 \n",
        "    elif prediction < 1:\n",
        "      prediction = 1 \n",
        "    return prediction \n",
        "\n",
        "  def get_user_id_index(self):\n",
        "    return self.user_id_index\n",
        "\n",
        "  def get_item_id_index(self):\n",
        "    return self.item_id_index\n",
        "\n",
        "  def sgd(self):\n",
        "    '''\n",
        "    SGD를 실행하는 함수 \n",
        "    '''\n",
        "    for i, j, r in self.train_samples:   # samples에 있는 각 (사용자-아이템-평점) 세트에 대해 \n",
        "      prediction = self.get_prediction(i, j)   # 사용자 i, 아이템 j에 대한 평점 예측치를 구함 \n",
        "      e = (r - prediction)   # 실제 평점과 비교해 오차를 구함 \n",
        "\n",
        "      self.b_u[i] += self.alpha * (e - self.beta * self.b_u[i])   # 앞의 식 (4)를 적용해 사용자 평가경향 업데이트\n",
        "      self.b_d[j] += self.alpha * (e - self.beta * self.b_d[j])   # 앞의 식 (4)를 적용해 아이템 평가경향 업데이트 \n",
        "\n",
        "      self.P[i, :] += self.alpha * (e * self.Q[j, :] - self.beta * self.P[i,:])   # 앞의 식 (2)를 적용해 P 행렬 업데이트 \n",
        "      self.Q[j, :] += self.alpha * (e * self.P[i, :] - self.beta * self.Q[j,:])   # 앞의 식 (2)를 적용해 Q 행렬 업데이트 "
      ],
      "metadata": {
        "id": "mnBxWTfcSFAb"
      },
      "execution_count": null,
      "outputs": []
    },
    {
      "cell_type": "code",
      "source": [
        "from sklearn.model_selection import StratifiedKFold \n",
        "\n",
        "def split_df(df, kfold_n=5):\n",
        "    '''\n",
        "    df col: img_path, label\n",
        "    '''\n",
        "    kfold = StratifiedKFold(n_splits=kfold_n, shuffle=True, random_state=42)\n",
        "    \n",
        "    # 클래스 비율 고려하여 Fold 별로 데이터 분리 \n",
        "    X = np.array(df) \n",
        "    y = df.m_no.values \n",
        "    \n",
        "    datas = [] \n",
        "    for i, (train_idx, val_idx) in enumerate(kfold.split(X, y)):\n",
        "        train_df = df.iloc[train_idx].copy().reset_index(drop=True)\n",
        "        test_df = df.iloc[val_idx].copy().reset_index(drop=True) \n",
        "        \n",
        "        datas.append((train_df, test_df))\n",
        "    return datas\n",
        "\n",
        "datas = split_df(X)"
      ],
      "metadata": {
        "id": "eI-sBW7Djbiv"
      },
      "execution_count": null,
      "outputs": []
    },
    {
      "cell_type": "code",
      "source": [
        "len(datas[0][0]['goodsno'].unique()), len(datas[0][1]['goodsno'].unique())"
      ],
      "metadata": {
        "colab": {
          "base_uri": "https://localhost:8080/"
        },
        "id": "rPG1p9yKV4UT",
        "outputId": "48741e37-ec01-47a0-c066-9b39b3a5f1c7"
      },
      "execution_count": null,
      "outputs": [
        {
          "output_type": "execute_result",
          "data": {
            "text/plain": [
              "(5720, 3460)"
            ]
          },
          "metadata": {},
          "execution_count": 50
        }
      ]
    },
    {
      "cell_type": "code",
      "source": [
        "fold_n = 5\n",
        "\n",
        "f_index = []\n",
        "mf_result = []\n",
        "mf_k_result = []\n",
        "mf_ab_result = []\n",
        "\n",
        "# 최적의 fold_dataset 탐색\n",
        "for fold in range(0, fold_n):\n",
        "  R_temp = dog_ratings.pivot(index='m_no', columns='goodsno', values='point').fillna(0)\n",
        "  mf = NEW_MF(R_temp, K=20, alpha=0.001, beta=0.02, iterations=100, verbose=True)   # MF 클래스 생성 \n",
        "  mf.set_train_val(datas[fold][0])\n",
        "  mf.set_test(datas[fold][1])\n",
        "  f_index.append(fold)\n",
        "  mf_result.append(mf.test())\n",
        "\n",
        "  mf2 = NEW_MF(R_temp, K=80, alpha=0.001, beta=0.02, iterations=100, verbose=True)   # MF 클래스 생성 \n",
        "  mf2.set_train_val(datas[fold][0])\n",
        "  mf2.set_test(datas[fold][1])\n",
        "  mf_k_result.append(mf2.test())\n",
        "\n",
        "  mf3 = NEW_MF(R_temp, K=80, alpha=0.008, beta=0.1, iterations=100, verbose=True)   # MF 클래스 생성 \n",
        "  mf3.set_train_val(datas[fold][0])\n",
        "  mf3.set_test(datas[fold][1])\n",
        "  mf_ab_result.append(mf3.test())"
      ],
      "metadata": {
        "id": "jz7q0ZON2gcz",
        "colab": {
          "base_uri": "https://localhost:8080/"
        },
        "outputId": "7c4b666b-76cf-406c-c81a-a002eb3aaf4c"
      },
      "execution_count": null,
      "outputs": [
        {
          "output_type": "stream",
          "name": "stdout",
          "text": [
            "Iteration: 10; Training RMSE=0.8099; Val RMSE = 0.8166; Test RMSE = 0.8233\n",
            "Iteration: 20; Training RMSE=0.7804; Val RMSE = 0.7923; Test RMSE = 0.7999\n",
            "Iteration: 30; Training RMSE=0.7665; Val RMSE = 0.7827; Test RMSE = 0.7905\n",
            "Iteration: 40; Training RMSE=0.7584; Val RMSE = 0.7783; Test RMSE = 0.7859\n",
            "Iteration: 50; Training RMSE=0.7529; Val RMSE = 0.7760; Test RMSE = 0.7836\n",
            "Iteration: 60; Training RMSE=0.7487; Val RMSE = 0.7747; Test RMSE = 0.7822\n",
            "Iteration: 70; Training RMSE=0.7451; Val RMSE = 0.7741; Test RMSE = 0.7814\n",
            "Iteration: 80; Training RMSE=0.7418; Val RMSE = 0.7736; Test RMSE = 0.7808\n",
            "Iteration: 90; Training RMSE=0.7385; Val RMSE = 0.7733; Test RMSE = 0.7803\n",
            "Iteration: 100; Training RMSE=0.7349; Val RMSE = 0.7730; Test RMSE = 0.7798\n",
            "Iteration: 10; Training RMSE=0.8104; Val RMSE = 0.8166; Test RMSE = 0.8233\n",
            "Iteration: 20; Training RMSE=0.7813; Val RMSE = 0.7923; Test RMSE = 0.7998\n",
            "Iteration: 30; Training RMSE=0.7678; Val RMSE = 0.7827; Test RMSE = 0.7904\n",
            "Iteration: 40; Training RMSE=0.7602; Val RMSE = 0.7783; Test RMSE = 0.7859\n",
            "Iteration: 50; Training RMSE=0.7552; Val RMSE = 0.7760; Test RMSE = 0.7836\n",
            "Iteration: 60; Training RMSE=0.7517; Val RMSE = 0.7748; Test RMSE = 0.7823\n",
            "Iteration: 70; Training RMSE=0.7489; Val RMSE = 0.7742; Test RMSE = 0.7816\n",
            "Iteration: 80; Training RMSE=0.7465; Val RMSE = 0.7739; Test RMSE = 0.7812\n",
            "Iteration: 90; Training RMSE=0.7445; Val RMSE = 0.7737; Test RMSE = 0.7810\n",
            "Iteration: 100; Training RMSE=0.7424; Val RMSE = 0.7737; Test RMSE = 0.7808\n",
            "Iteration: 10; Training RMSE=0.7500; Val RMSE = 0.7754; Test RMSE = 0.7825\n",
            "Iteration: 20; Training RMSE=0.7414; Val RMSE = 0.7760; Test RMSE = 0.7826\n",
            "Iteration: 30; Training RMSE=0.7347; Val RMSE = 0.7762; Test RMSE = 0.7831\n",
            "Iteration: 40; Training RMSE=0.7232; Val RMSE = 0.7757; Test RMSE = 0.7815\n",
            "Iteration: 50; Training RMSE=0.7031; Val RMSE = 0.7737; Test RMSE = 0.7776\n",
            "Iteration: 60; Training RMSE=0.6752; Val RMSE = 0.7709; Test RMSE = 0.7734\n",
            "Iteration: 70; Training RMSE=0.6427; Val RMSE = 0.7689; Test RMSE = 0.7701\n",
            "Iteration: 80; Training RMSE=0.6112; Val RMSE = 0.7672; Test RMSE = 0.7679\n",
            "Iteration: 90; Training RMSE=0.5844; Val RMSE = 0.7668; Test RMSE = 0.7670\n",
            "Iteration: 100; Training RMSE=0.5627; Val RMSE = 0.7662; Test RMSE = 0.7663\n",
            "Iteration: 10; Training RMSE=0.8098; Val RMSE = 0.8051; Test RMSE = 0.8212\n",
            "Iteration: 20; Training RMSE=0.7804; Val RMSE = 0.7829; Test RMSE = 0.7975\n",
            "Iteration: 30; Training RMSE=0.7666; Val RMSE = 0.7744; Test RMSE = 0.7882\n",
            "Iteration: 40; Training RMSE=0.7585; Val RMSE = 0.7705; Test RMSE = 0.7839\n",
            "Iteration: 50; Training RMSE=0.7530; Val RMSE = 0.7685; Test RMSE = 0.7818\n",
            "Iteration: 60; Training RMSE=0.7489; Val RMSE = 0.7675; Test RMSE = 0.7807\n",
            "Iteration: 70; Training RMSE=0.7454; Val RMSE = 0.7669; Test RMSE = 0.7802\n",
            "Iteration: 80; Training RMSE=0.7422; Val RMSE = 0.7666; Test RMSE = 0.7799\n",
            "Iteration: 90; Training RMSE=0.7390; Val RMSE = 0.7663; Test RMSE = 0.7797\n",
            "Iteration: 100; Training RMSE=0.7358; Val RMSE = 0.7661; Test RMSE = 0.7795\n",
            "Iteration: 10; Training RMSE=0.8102; Val RMSE = 0.8049; Test RMSE = 0.8210\n",
            "Iteration: 20; Training RMSE=0.7812; Val RMSE = 0.7828; Test RMSE = 0.7974\n",
            "Iteration: 30; Training RMSE=0.7678; Val RMSE = 0.7743; Test RMSE = 0.7881\n",
            "Iteration: 40; Training RMSE=0.7602; Val RMSE = 0.7704; Test RMSE = 0.7838\n",
            "Iteration: 50; Training RMSE=0.7552; Val RMSE = 0.7684; Test RMSE = 0.7817\n",
            "Iteration: 60; Training RMSE=0.7516; Val RMSE = 0.7674; Test RMSE = 0.7806\n",
            "Iteration: 70; Training RMSE=0.7489; Val RMSE = 0.7669; Test RMSE = 0.7801\n",
            "Iteration: 80; Training RMSE=0.7465; Val RMSE = 0.7667; Test RMSE = 0.7799\n",
            "Iteration: 90; Training RMSE=0.7445; Val RMSE = 0.7666; Test RMSE = 0.7798\n",
            "Iteration: 100; Training RMSE=0.7425; Val RMSE = 0.7665; Test RMSE = 0.7798\n",
            "Iteration: 10; Training RMSE=0.7497; Val RMSE = 0.7673; Test RMSE = 0.7813\n",
            "Iteration: 20; Training RMSE=0.7408; Val RMSE = 0.7672; Test RMSE = 0.7815\n",
            "Iteration: 30; Training RMSE=0.7339; Val RMSE = 0.7678; Test RMSE = 0.7825\n",
            "Iteration: 40; Training RMSE=0.7210; Val RMSE = 0.7662; Test RMSE = 0.7810\n",
            "Iteration: 50; Training RMSE=0.6993; Val RMSE = 0.7629; Test RMSE = 0.7782\n",
            "Iteration: 60; Training RMSE=0.6702; Val RMSE = 0.7598; Test RMSE = 0.7750\n",
            "Iteration: 70; Training RMSE=0.6379; Val RMSE = 0.7574; Test RMSE = 0.7727\n",
            "Iteration: 80; Training RMSE=0.6072; Val RMSE = 0.7558; Test RMSE = 0.7711\n",
            "Iteration: 90; Training RMSE=0.5808; Val RMSE = 0.7552; Test RMSE = 0.7700\n",
            "Iteration: 100; Training RMSE=0.5594; Val RMSE = 0.7550; Test RMSE = 0.7696\n",
            "Iteration: 10; Training RMSE=0.8110; Val RMSE = 0.8058; Test RMSE = 0.8168\n",
            "Iteration: 20; Training RMSE=0.7815; Val RMSE = 0.7816; Test RMSE = 0.7945\n",
            "Iteration: 30; Training RMSE=0.7676; Val RMSE = 0.7718; Test RMSE = 0.7858\n",
            "Iteration: 40; Training RMSE=0.7595; Val RMSE = 0.7671; Test RMSE = 0.7817\n",
            "Iteration: 50; Training RMSE=0.7540; Val RMSE = 0.7645; Test RMSE = 0.7795\n",
            "Iteration: 60; Training RMSE=0.7497; Val RMSE = 0.7630; Test RMSE = 0.7784\n",
            "Iteration: 70; Training RMSE=0.7461; Val RMSE = 0.7620; Test RMSE = 0.7776\n",
            "Iteration: 80; Training RMSE=0.7428; Val RMSE = 0.7614; Test RMSE = 0.7772\n",
            "Iteration: 90; Training RMSE=0.7394; Val RMSE = 0.7608; Test RMSE = 0.7768\n",
            "Iteration: 100; Training RMSE=0.7358; Val RMSE = 0.7603; Test RMSE = 0.7765\n",
            "Iteration: 10; Training RMSE=0.8114; Val RMSE = 0.8056; Test RMSE = 0.8168\n",
            "Iteration: 20; Training RMSE=0.7823; Val RMSE = 0.7814; Test RMSE = 0.7945\n",
            "Iteration: 30; Training RMSE=0.7689; Val RMSE = 0.7716; Test RMSE = 0.7858\n",
            "Iteration: 40; Training RMSE=0.7613; Val RMSE = 0.7669; Test RMSE = 0.7818\n",
            "Iteration: 50; Training RMSE=0.7564; Val RMSE = 0.7644; Test RMSE = 0.7797\n",
            "Iteration: 60; Training RMSE=0.7528; Val RMSE = 0.7629; Test RMSE = 0.7785\n",
            "Iteration: 70; Training RMSE=0.7501; Val RMSE = 0.7621; Test RMSE = 0.7780\n",
            "Iteration: 80; Training RMSE=0.7477; Val RMSE = 0.7616; Test RMSE = 0.7776\n",
            "Iteration: 90; Training RMSE=0.7457; Val RMSE = 0.7612; Test RMSE = 0.7775\n",
            "Iteration: 100; Training RMSE=0.7437; Val RMSE = 0.7610; Test RMSE = 0.7774\n",
            "Iteration: 10; Training RMSE=0.7511; Val RMSE = 0.7627; Test RMSE = 0.7785\n",
            "Iteration: 20; Training RMSE=0.7422; Val RMSE = 0.7618; Test RMSE = 0.7783\n",
            "Iteration: 30; Training RMSE=0.7351; Val RMSE = 0.7621; Test RMSE = 0.7791\n",
            "Iteration: 40; Training RMSE=0.7216; Val RMSE = 0.7601; Test RMSE = 0.7777\n",
            "Iteration: 50; Training RMSE=0.6990; Val RMSE = 0.7562; Test RMSE = 0.7747\n",
            "Iteration: 60; Training RMSE=0.6690; Val RMSE = 0.7533; Test RMSE = 0.7718\n",
            "Iteration: 70; Training RMSE=0.6353; Val RMSE = 0.7513; Test RMSE = 0.7696\n",
            "Iteration: 80; Training RMSE=0.6031; Val RMSE = 0.7499; Test RMSE = 0.7678\n",
            "Iteration: 90; Training RMSE=0.5762; Val RMSE = 0.7494; Test RMSE = 0.7669\n",
            "Iteration: 100; Training RMSE=0.5551; Val RMSE = 0.7492; Test RMSE = 0.7664\n",
            "Iteration: 10; Training RMSE=0.8101; Val RMSE = 0.8122; Test RMSE = 0.8198\n",
            "Iteration: 20; Training RMSE=0.7804; Val RMSE = 0.7896; Test RMSE = 0.7968\n",
            "Iteration: 30; Training RMSE=0.7665; Val RMSE = 0.7810; Test RMSE = 0.7880\n",
            "Iteration: 40; Training RMSE=0.7584; Val RMSE = 0.7772; Test RMSE = 0.7839\n",
            "Iteration: 50; Training RMSE=0.7530; Val RMSE = 0.7754; Test RMSE = 0.7819\n",
            "Iteration: 60; Training RMSE=0.7488; Val RMSE = 0.7744; Test RMSE = 0.7808\n",
            "Iteration: 70; Training RMSE=0.7452; Val RMSE = 0.7739; Test RMSE = 0.7801\n",
            "Iteration: 80; Training RMSE=0.7420; Val RMSE = 0.7737; Test RMSE = 0.7797\n",
            "Iteration: 90; Training RMSE=0.7387; Val RMSE = 0.7734; Test RMSE = 0.7793\n",
            "Iteration: 100; Training RMSE=0.7352; Val RMSE = 0.7732; Test RMSE = 0.7789\n",
            "Iteration: 10; Training RMSE=0.8106; Val RMSE = 0.8120; Test RMSE = 0.8198\n",
            "Iteration: 20; Training RMSE=0.7813; Val RMSE = 0.7894; Test RMSE = 0.7969\n",
            "Iteration: 30; Training RMSE=0.7679; Val RMSE = 0.7809; Test RMSE = 0.7880\n",
            "Iteration: 40; Training RMSE=0.7603; Val RMSE = 0.7771; Test RMSE = 0.7840\n",
            "Iteration: 50; Training RMSE=0.7554; Val RMSE = 0.7753; Test RMSE = 0.7820\n",
            "Iteration: 60; Training RMSE=0.7519; Val RMSE = 0.7744; Test RMSE = 0.7809\n",
            "Iteration: 70; Training RMSE=0.7492; Val RMSE = 0.7740; Test RMSE = 0.7804\n",
            "Iteration: 80; Training RMSE=0.7470; Val RMSE = 0.7738; Test RMSE = 0.7801\n",
            "Iteration: 90; Training RMSE=0.7450; Val RMSE = 0.7738; Test RMSE = 0.7799\n",
            "Iteration: 100; Training RMSE=0.7432; Val RMSE = 0.7739; Test RMSE = 0.7798\n",
            "Iteration: 10; Training RMSE=0.7500; Val RMSE = 0.7743; Test RMSE = 0.7807\n",
            "Iteration: 20; Training RMSE=0.7416; Val RMSE = 0.7758; Test RMSE = 0.7807\n",
            "Iteration: 30; Training RMSE=0.7349; Val RMSE = 0.7758; Test RMSE = 0.7807\n",
            "Iteration: 40; Training RMSE=0.7230; Val RMSE = 0.7749; Test RMSE = 0.7789\n",
            "Iteration: 50; Training RMSE=0.7033; Val RMSE = 0.7722; Test RMSE = 0.7755\n",
            "Iteration: 60; Training RMSE=0.6762; Val RMSE = 0.7698; Test RMSE = 0.7724\n",
            "Iteration: 70; Training RMSE=0.6439; Val RMSE = 0.7674; Test RMSE = 0.7694\n",
            "Iteration: 80; Training RMSE=0.6120; Val RMSE = 0.7655; Test RMSE = 0.7672\n",
            "Iteration: 90; Training RMSE=0.5844; Val RMSE = 0.7644; Test RMSE = 0.7658\n",
            "Iteration: 100; Training RMSE=0.5624; Val RMSE = 0.7638; Test RMSE = 0.7652\n",
            "Iteration: 10; Training RMSE=0.8102; Val RMSE = 0.8206; Test RMSE = 0.8205\n",
            "Iteration: 20; Training RMSE=0.7809; Val RMSE = 0.7986; Test RMSE = 0.7967\n",
            "Iteration: 30; Training RMSE=0.7672; Val RMSE = 0.7902; Test RMSE = 0.7872\n",
            "Iteration: 40; Training RMSE=0.7593; Val RMSE = 0.7864; Test RMSE = 0.7825\n",
            "Iteration: 50; Training RMSE=0.7539; Val RMSE = 0.7846; Test RMSE = 0.7800\n",
            "Iteration: 60; Training RMSE=0.7498; Val RMSE = 0.7837; Test RMSE = 0.7786\n",
            "Iteration: 70; Training RMSE=0.7464; Val RMSE = 0.7833; Test RMSE = 0.7777\n",
            "Iteration: 80; Training RMSE=0.7433; Val RMSE = 0.7831; Test RMSE = 0.7771\n",
            "Iteration: 90; Training RMSE=0.7402; Val RMSE = 0.7831; Test RMSE = 0.7767\n",
            "Iteration: 100; Training RMSE=0.7369; Val RMSE = 0.7831; Test RMSE = 0.7763\n",
            "Iteration: 10; Training RMSE=0.8106; Val RMSE = 0.8207; Test RMSE = 0.8203\n",
            "Iteration: 20; Training RMSE=0.7818; Val RMSE = 0.7987; Test RMSE = 0.7966\n",
            "Iteration: 30; Training RMSE=0.7685; Val RMSE = 0.7903; Test RMSE = 0.7870\n",
            "Iteration: 40; Training RMSE=0.7610; Val RMSE = 0.7865; Test RMSE = 0.7825\n",
            "Iteration: 50; Training RMSE=0.7561; Val RMSE = 0.7847; Test RMSE = 0.7800\n",
            "Iteration: 60; Training RMSE=0.7526; Val RMSE = 0.7838; Test RMSE = 0.7786\n",
            "Iteration: 70; Training RMSE=0.7499; Val RMSE = 0.7834; Test RMSE = 0.7778\n",
            "Iteration: 80; Training RMSE=0.7476; Val RMSE = 0.7833; Test RMSE = 0.7773\n",
            "Iteration: 90; Training RMSE=0.7456; Val RMSE = 0.7833; Test RMSE = 0.7770\n",
            "Iteration: 100; Training RMSE=0.7436; Val RMSE = 0.7834; Test RMSE = 0.7768\n",
            "Iteration: 10; Training RMSE=0.7508; Val RMSE = 0.7838; Test RMSE = 0.7783\n",
            "Iteration: 20; Training RMSE=0.7421; Val RMSE = 0.7849; Test RMSE = 0.7778\n",
            "Iteration: 30; Training RMSE=0.7350; Val RMSE = 0.7859; Test RMSE = 0.7779\n",
            "Iteration: 40; Training RMSE=0.7225; Val RMSE = 0.7851; Test RMSE = 0.7760\n",
            "Iteration: 50; Training RMSE=0.7027; Val RMSE = 0.7829; Test RMSE = 0.7729\n",
            "Iteration: 60; Training RMSE=0.6761; Val RMSE = 0.7806; Test RMSE = 0.7699\n",
            "Iteration: 70; Training RMSE=0.6442; Val RMSE = 0.7782; Test RMSE = 0.7675\n",
            "Iteration: 80; Training RMSE=0.6125; Val RMSE = 0.7761; Test RMSE = 0.7658\n",
            "Iteration: 90; Training RMSE=0.5853; Val RMSE = 0.7750; Test RMSE = 0.7650\n",
            "Iteration: 100; Training RMSE=0.5636; Val RMSE = 0.7744; Test RMSE = 0.7647\n"
          ]
        }
      ]
    },
    {
      "cell_type": "code",
      "source": [
        "import matplotlib.pyplot as plt \n",
        "\n",
        "f, ax = plt.subplots(2, 3, figsize=(16, 8))\n",
        "labels = ['kfold-1', 'kfold-2', 'kfold-3', 'kfold-4', 'kfold-5']\n",
        "idx = 0 \n",
        "\n",
        "for i in range(2):    \n",
        "  for j in range(3):   \n",
        "    try:\n",
        "      ax[i, j].plot([x for x in range(1, 101)], [result[1] for result in mf_result[idx]], color='blue', label='Train RMSE')\n",
        "      ax[i, j].plot([x for x in range(1, 101)], [result[2] for result in mf_result[idx]], color='orange', label='Val RMSE')\n",
        "      # ax[i, j].plot([x for x in range(1, 101)], [result[3] for result in mf_result[idx]], color='red', label='Test RMSE')\n",
        "\n",
        "      ax[i, j].set_ylim(0.5, 1.0)   # y축 범위 설정하기 \n",
        "      ax[i, j].set_xlabel(f'iterations ({labels[idx]})', fontweight='bold')   \n",
        "      ax[i, j].set_ylabel('RMSE', fontweight='bold')\n",
        "      ax[i, j].legend()\n",
        "      idx += 1\n",
        "    except IndexError:\n",
        "      ax[i, j].set_visible(False)\n",
        "\n",
        "plt.show()"
      ],
      "metadata": {
        "id": "1o3xHQu5LIl2",
        "colab": {
          "base_uri": "https://localhost:8080/",
          "height": 501
        },
        "outputId": "40c69ceb-5c01-4f4d-bcca-0780149d6515"
      },
      "execution_count": null,
      "outputs": [
        {
          "output_type": "display_data",
          "data": {
            "text/plain": [
              "<Figure size 1152x576 with 6 Axes>"
            ],
            "image/png": "[encoded data removed]"
          },
          "metadata": {
            "needs_background": "light"
          }
        }
      ]
    },
    {
      "cell_type": "code",
      "source": [
        "# 5번 KFOLD 결과 값 Plot "
      ],
      "metadata": {
        "id": "2sHgC3zmn3Yx"
      },
      "execution_count": null,
      "outputs": []
    },
    {
      "cell_type": "code",
      "source": [
        "import matplotlib.pyplot as plt \n",
        "\n",
        "f, ax = plt.subplots(2, 3, figsize=(16, 8))\n",
        "labels = ['kfold-1', 'kfold-2', 'kfold-3', 'kfold-4', 'kfold-5']\n",
        "idx = 0 \n",
        "\n",
        "for i in range(2):    \n",
        "  for j in range(3):   \n",
        "    try:\n",
        "      ax[i, j].plot([x for x in range(1, 101)], [result[1] for result in mf_k_result[idx]], color='blue', label='Train RMSE')\n",
        "      ax[i, j].plot([x for x in range(1, 101)], [result[2] for result in mf_k_result[idx]], color='orange', label='Val RMSE')\n",
        "      # ax[i, j].plot([x for x in range(1, 101)], [result[3] for result in mf_result[idx]], color='red', label='Test RMSE')\n",
        "      ax[i, j].set_ylim(0.5, 1.0)   # y축 범위 설정하기 \n",
        "      ax[i, j].set_xlabel(f'iterations ({labels[idx]})', fontweight='bold')   \n",
        "      ax[i, j].set_ylabel('RMSE', fontweight='bold')\n",
        "      ax[i, j].legend()\n",
        "      idx += 1\n",
        "    except IndexError:\n",
        "       ax[i, j].set_visible(False)\n",
        "\n",
        "plt.show()"
      ],
      "metadata": {
        "id": "WJXtsFFp2iXj",
        "colab": {
          "base_uri": "https://localhost:8080/",
          "height": 501
        },
        "outputId": "55b9c399-e40b-44dc-9b02-c7705c09f0ba"
      },
      "execution_count": null,
      "outputs": [
        {
          "output_type": "display_data",
          "data": {
            "text/plain": [
              "<Figure size 1152x576 with 6 Axes>"
            ],
            "image/png": "[encoded data removed]"
          },
          "metadata": {
            "needs_background": "light"
          }
        }
      ]
    },
    {
      "cell_type": "code",
      "source": [
        ""
      ],
      "metadata": {
        "id": "Rhj93OcaG-UD"
      },
      "execution_count": null,
      "outputs": []
    },
    {
      "cell_type": "code",
      "source": [
        "mf_ab_result"
      ],
      "metadata": {
        "id": "ldaswDtr_pCb"
      },
      "execution_count": null,
      "outputs": []
    },
    {
      "cell_type": "code",
      "source": [
        "import matplotlib.pyplot as plt \n",
        "\n",
        "f, ax = plt.subplots(2, 3, figsize=(16, 8))\n",
        "labels = ['kfold-1', 'kfold-2', 'kfold-3', 'kfold-4', 'kfold-5']\n",
        "idx = 0 \n",
        "\n",
        "for i in range(2):    \n",
        "  for j in range(3):   \n",
        "    try:\n",
        "      ax[i, j].plot([x for x in range(1, 101)], [result[1] for result in mf_ab_result[idx]], color='blue', label='Train RMSE')\n",
        "      ax[i, j].plot([x for x in range(1, 101)], [result[2] for result in mf_ab_result[idx]], color='orange', label='Val RMSE')\n",
        "      # ax[i, j].plot([x for x in range(1, 101)], [result[3] for result in mf_ab_result[idx]], color='red', label='Test RMSE')\n",
        "      ax[i, j].set_ylim(0.5, 1.0)   # y축 범위 설정하기 \n",
        "      ax[i, j].set_xlabel(f'iterations ({labels[idx]})', fontweight='bold')   \n",
        "      ax[i, j].set_ylabel('RMSE', fontweight='bold')\n",
        "      ax[i, j].legend()\n",
        "      idx += 1\n",
        "    except IndexError:\n",
        "       ax[i, j].set_visible(False)\n",
        "\n",
        "plt.show()"
      ],
      "metadata": {
        "colab": {
          "base_uri": "https://localhost:8080/",
          "height": 501
        },
        "id": "eqpeQSoofJCP",
        "outputId": "b3bab6d9-8367-4913-e4ae-73400e4c9e65"
      },
      "execution_count": null,
      "outputs": [
        {
          "output_type": "display_data",
          "data": {
            "text/plain": [
              "<Figure size 1152x576 with 6 Axes>"
            ],
            "image/png": "[encoded data removed]"
          },
          "metadata": {
            "needs_background": "light"
          }
        }
      ]
    },
    {
      "cell_type": "code",
      "source": [
        "a, b, c, d = zip(mf_ab_result[0], mf_ab_result[1], mf_ab_result[2], mf_ab_result[3], mf_ab_result[4])"
      ],
      "metadata": {
        "colab": {
          "base_uri": "https://localhost:8080/",
          "height": 165
        },
        "id": "6dxSUEE8egZH",
        "outputId": "9a16488b-efad-479f-b194-1fa6df66281b"
      },
      "execution_count": null,
      "outputs": [
        {
          "output_type": "error",
          "ename": "ValueError",
          "evalue": "ignored",
          "traceback": [
            "\u001b[0;31m---------------------------------------------------------------------------\u001b[0m",
            "\u001b[0;31mValueError\u001b[0m                                Traceback (most recent call last)",
            "\u001b[0;32m<ipython-input-23-5967bd4ccdd7>\u001b[0m in \u001b[0;36m<module>\u001b[0;34m()\u001b[0m\n\u001b[0;32m----> 1\u001b[0;31m \u001b[0ma\u001b[0m\u001b[0;34m,\u001b[0m \u001b[0mb\u001b[0m\u001b[0;34m,\u001b[0m \u001b[0mc\u001b[0m\u001b[0;34m,\u001b[0m \u001b[0md\u001b[0m \u001b[0;34m=\u001b[0m \u001b[0mzip\u001b[0m\u001b[0;34m(\u001b[0m\u001b[0mmf_ab_result\u001b[0m\u001b[0;34m[\u001b[0m\u001b[0;36m0\u001b[0m\u001b[0;34m]\u001b[0m\u001b[0;34m,\u001b[0m \u001b[0mmf_ab_result\u001b[0m\u001b[0;34m[\u001b[0m\u001b[0;36m1\u001b[0m\u001b[0;34m]\u001b[0m\u001b[0;34m,\u001b[0m \u001b[0mmf_ab_result\u001b[0m\u001b[0;34m[\u001b[0m\u001b[0;36m2\u001b[0m\u001b[0;34m]\u001b[0m\u001b[0;34m,\u001b[0m \u001b[0mmf_ab_result\u001b[0m\u001b[0;34m[\u001b[0m\u001b[0;36m3\u001b[0m\u001b[0;34m]\u001b[0m\u001b[0;34m,\u001b[0m \u001b[0mmf_ab_result\u001b[0m\u001b[0;34m[\u001b[0m\u001b[0;36m4\u001b[0m\u001b[0;34m]\u001b[0m\u001b[0;34m)\u001b[0m\u001b[0;34m\u001b[0m\u001b[0;34m\u001b[0m\u001b[0m\n\u001b[0m",
            "\u001b[0;31mValueError\u001b[0m: too many values to unpack (expected 4)"
          ]
        }
      ]
    },
    {
      "cell_type": "code",
      "source": [
        "val_rmse = 0 \n",
        "for idx in range(5):\n",
        "  for idx2 in range(100):\n",
        "    val_rmse += mf_ab_result[idx][idx2][2]\n",
        "\n",
        "val_rmse / 500"
      ],
      "metadata": {
        "colab": {
          "base_uri": "https://localhost:8080/"
        },
        "id": "KQSh5tYkfEMX",
        "outputId": "ee9e0059-1c25-4c10-e225-3001ef81a312"
      },
      "execution_count": null,
      "outputs": [
        {
          "output_type": "execute_result",
          "data": {
            "text/plain": [
              "0.7694907977217621"
            ]
          },
          "metadata": {},
          "execution_count": 58
        }
      ]
    },
    {
      "cell_type": "code",
      "source": [
        "print(mf3.full_prediction())"
      ],
      "metadata": {
        "colab": {
          "base_uri": "https://localhost:8080/"
        },
        "id": "QPw33jDEj7Yz",
        "outputId": "e0b40f27-6db0-458b-8d21-ad87c95ccbdf"
      },
      "execution_count": null,
      "outputs": [
        {
          "output_type": "stream",
          "name": "stdout",
          "text": [
            "[[4.45201014 5.16118291 5.15934579 ... 4.80721291 4.78400581 5.04344653]\n",
            " [3.93054336 4.60819733 4.66257726 ... 4.24447977 4.2420138  4.49859118]\n",
            " [3.81621503 4.48911395 4.55698819 ... 4.21234048 4.18595221 4.41372701]\n",
            " ...\n",
            " [4.51494683 5.1984228  5.2201481  ... 4.84285721 4.84464611 5.10564645]\n",
            " [2.97847696 3.66979    3.81596213 ... 3.30114292 3.34090101 3.5743575 ]\n",
            " [3.7402966  4.55386839 4.56415866 ... 4.05290446 4.01240316 4.29286483]]\n"
          ]
        }
      ]
    },
    {
      "cell_type": "code",
      "source": [
        "print(mf3.get_one_prediction(98380, 17984))   \t\t"
      ],
      "metadata": {
        "colab": {
          "base_uri": "https://localhost:8080/"
        },
        "id": "4HJJB4N1j_1T",
        "outputId": "db04f16e-8b38-41aa-a91e-5b19c649fe19"
      },
      "execution_count": null,
      "outputs": [
        {
          "output_type": "stream",
          "name": "stdout",
          "text": [
            "4.2530723969296345\n"
          ]
        }
      ]
    },
    {
      "cell_type": "code",
      "source": [
        "def convert_sent(point_list):\n",
        "  list_p = []\n",
        "  for idx, point in enumerate(point_list):\n",
        "    if point > 3:\n",
        "      list_p.append(0)\n",
        "    else:\n",
        "      list_p.append(1)\n",
        "  print(len(list_p))\n",
        "  return list_p"
      ],
      "metadata": {
        "id": "1eSFCS8nQdYV"
      },
      "execution_count": null,
      "outputs": []
    },
    {
      "cell_type": "code",
      "source": [
        "from sklearn.metrics import classification_report, confusion_matrix, precision_score, recall_score, f1_score\n",
        "import seaborn as sns\n",
        "\n",
        "def c_matrix(model): \n",
        "  ''' \n",
        "  score 함수 수정: 모델 이름 + neighbor_size 지정할 수 있도록 파라미터 변경 \n",
        "  model 입력으로 받아, test 데이터에 대한 RMSE 값을 계산하여 반환 \n",
        "  '''\n",
        "  id_pairs = zip(datas[2][1]['m_no'], datas[2][1]['goodsno'])    # id_pairs: (user_id1, goodsno1), (user_id2, goodsno2), (user_id3, goodsno3) 쌍을 얻음 \n",
        "  y_pred = np.array([model.get_one_prediction(user, item) for (user, item) in id_pairs])   # user_id와 movie_id 값을 이용해 예측 값 계산 \n",
        "  # print(y_pred, type(y_pred))\n",
        "  y_pred = list(convert_sent(list(y_pred)))\n",
        "  y_true = list(convert_sent(datas[2][1]['point']))   # test 데이터의 실제 값 저장 \n",
        "  \n",
        "  # print(len(y_pred), len(y_true), type(y_pred), type(y_true))\n",
        "  cm = confusion_matrix(y_true, y_pred)\n",
        "  cmdf = pd.DataFrame(cm, index=['실제값(0)', '실제값(1)'], columns=['예측값(0)', '예측값(1)'])\n",
        "  return cmdf"
      ],
      "metadata": {
        "id": "YCaeUtG0PtZs"
      },
      "execution_count": null,
      "outputs": []
    },
    {
      "cell_type": "code",
      "source": [
        "c_matrix(mf)"
      ],
      "metadata": {
        "colab": {
          "base_uri": "https://localhost:8080/",
          "height": 147
        },
        "id": "WPb2cAyGmta0",
        "outputId": "fa5b9f91-f9d5-4e9d-d5ed-d05d55120ff8"
      },
      "execution_count": null,
      "outputs": [
        {
          "output_type": "stream",
          "name": "stdout",
          "text": [
            "20000\n",
            "20000\n"
          ]
        },
        {
          "output_type": "execute_result",
          "data": {
            "text/plain": [
              "        예측값(0)  예측값(1)\n",
              "실제값(0)   16925      26\n",
              "실제값(1)    2888     161"
            ],
            "text/html": [
              "\n",
              "  <div id=\"df-cbbf13b6-a101-4812-bde9-26823b9df3fa\">\n",
              "    <div class=\"colab-df-container\">\n",
              "      <div>\n",
              "<style scoped>\n",
              "    .dataframe tbody tr th:only-of-type {\n",
              "        vertical-align: middle;\n",
              "    }\n",
              "\n",
              "    .dataframe tbody tr th {\n",
              "        vertical-align: top;\n",
              "    }\n",
              "\n",
              "    .dataframe thead th {\n",
              "        text-align: right;\n",
              "    }\n",
              "</style>\n",
              "<table border=\"1\" class=\"dataframe\">\n",
              "  <thead>\n",
              "    <tr style=\"text-align: right;\">\n",
              "      <th></th>\n",
              "      <th>예측값(0)</th>\n",
              "      <th>예측값(1)</th>\n",
              "    </tr>\n",
              "  </thead>\n",
              "  <tbody>\n",
              "    <tr>\n",
              "      <th>실제값(0)</th>\n",
              "      <td>16925</td>\n",
              "      <td>26</td>\n",
              "    </tr>\n",
              "    <tr>\n",
              "      <th>실제값(1)</th>\n",
              "      <td>2888</td>\n",
              "      <td>161</td>\n",
              "    </tr>\n",
              "  </tbody>\n",
              "</table>\n",
              "</div>\n",
              "      <button class=\"colab-df-convert\" onclick=\"convertToInteractive('df-cbbf13b6-a101-4812-bde9-26823b9df3fa')\"\n",
              "              title=\"Convert this dataframe to an interactive table.\"\n",
              "              style=\"display:none;\">\n",
              "        \n",
              "  <svg xmlns=\"http://www.w3.org/2000/svg\" height=\"24px\"viewBox=\"0 0 24 24\"\n",
              "       width=\"24px\">\n",
              "    <path d=\"M0 0h24v24H0V0z\" fill=\"none\"/>\n",
              "    <path d=\"M18.56 5.44l.94 2.06.94-2.06 2.06-.94-2.06-.94-.94-2.06-.94 2.06-2.06.94zm-11 1L8.5 8.5l.94-2.06 2.06-.94-2.06-.94L8.5 2.5l-.94 2.06-2.06.94zm10 10l.94 2.06.94-2.06 2.06-.94-2.06-.94-.94-2.06-.94 2.06-2.06.94z\"/><path d=\"M17.41 7.96l-1.37-1.37c-.4-.4-.92-.59-1.43-.59-.52 0-1.04.2-1.43.59L10.3 9.45l-7.72 7.72c-.78.78-.78 2.05 0 2.83L4 21.41c.39.39.9.59 1.41.59.51 0 1.02-.2 1.41-.59l7.78-7.78 2.81-2.81c.8-.78.8-2.07 0-2.86zM5.41 20L4 18.59l7.72-7.72 1.47 1.35L5.41 20z\"/>\n",
              "  </svg>\n",
              "      </button>\n",
              "      \n",
              "  <style>\n",
              "    .colab-df-container {\n",
              "      display:flex;\n",
              "      flex-wrap:wrap;\n",
              "      gap: 12px;\n",
              "    }\n",
              "\n",
              "    .colab-df-convert {\n",
              "      background-color: #E8F0FE;\n",
              "      border: none;\n",
              "      border-radius: 50%;\n",
              "      cursor: pointer;\n",
              "      display: none;\n",
              "      fill: #1967D2;\n",
              "      height: 32px;\n",
              "      padding: 0 0 0 0;\n",
              "      width: 32px;\n",
              "    }\n",
              "\n",
              "    .colab-df-convert:hover {\n",
              "      background-color: #E2EBFA;\n",
              "      box-shadow: 0px 1px 2px rgba(60, 64, 67, 0.3), 0px 1px 3px 1px rgba(60, 64, 67, 0.15);\n",
              "      fill: #174EA6;\n",
              "    }\n",
              "\n",
              "    [theme=dark] .colab-df-convert {\n",
              "      background-color: #3B4455;\n",
              "      fill: #D2E3FC;\n",
              "    }\n",
              "\n",
              "    [theme=dark] .colab-df-convert:hover {\n",
              "      background-color: #434B5C;\n",
              "      box-shadow: 0px 1px 3px 1px rgba(0, 0, 0, 0.15);\n",
              "      filter: drop-shadow(0px 1px 2px rgba(0, 0, 0, 0.3));\n",
              "      fill: #FFFFFF;\n",
              "    }\n",
              "  </style>\n",
              "\n",
              "      <script>\n",
              "        const buttonEl =\n",
              "          document.querySelector('#df-cbbf13b6-a101-4812-bde9-26823b9df3fa button.colab-df-convert');\n",
              "        buttonEl.style.display =\n",
              "          google.colab.kernel.accessAllowed ? 'block' : 'none';\n",
              "\n",
              "        async function convertToInteractive(key) {\n",
              "          const element = document.querySelector('#df-cbbf13b6-a101-4812-bde9-26823b9df3fa');\n",
              "          const dataTable =\n",
              "            await google.colab.kernel.invokeFunction('convertToInteractive',\n",
              "                                                     [key], {});\n",
              "          if (!dataTable) return;\n",
              "\n",
              "          const docLinkHtml = 'Like what you see? Visit the ' +\n",
              "            '<a target=\"_blank\" href=https://colab.research.google.com/notebooks/data_table.ipynb>data table notebook</a>'\n",
              "            + ' to learn more about interactive tables.';\n",
              "          element.innerHTML = '';\n",
              "          dataTable['output_type'] = 'display_data';\n",
              "          await google.colab.output.renderOutput(dataTable, element);\n",
              "          const docLink = document.createElement('div');\n",
              "          docLink.innerHTML = docLinkHtml;\n",
              "          element.appendChild(docLink);\n",
              "        }\n",
              "      </script>\n",
              "    </div>\n",
              "  </div>\n",
              "  "
            ]
          },
          "metadata": {},
          "execution_count": 61
        }
      ]
    },
    {
      "cell_type": "code",
      "source": [
        "c_matrix(mf3)"
      ],
      "metadata": {
        "colab": {
          "base_uri": "https://localhost:8080/",
          "height": 147
        },
        "id": "VcNoo9N7lqgB",
        "outputId": "b3a3f750-6d72-449e-a10c-3f437a2bef4e"
      },
      "execution_count": null,
      "outputs": [
        {
          "output_type": "stream",
          "name": "stdout",
          "text": [
            "20000\n",
            "20000\n"
          ]
        },
        {
          "output_type": "execute_result",
          "data": {
            "text/plain": [
              "        예측값(0)  예측값(1)\n",
              "실제값(0)   16942       9\n",
              "실제값(1)    2526     523"
            ],
            "text/html": [
              "\n",
              "  <div id=\"df-e4e12d6e-f235-4c5b-a6ae-66fdd751de26\">\n",
              "    <div class=\"colab-df-container\">\n",
              "      <div>\n",
              "<style scoped>\n",
              "    .dataframe tbody tr th:only-of-type {\n",
              "        vertical-align: middle;\n",
              "    }\n",
              "\n",
              "    .dataframe tbody tr th {\n",
              "        vertical-align: top;\n",
              "    }\n",
              "\n",
              "    .dataframe thead th {\n",
              "        text-align: right;\n",
              "    }\n",
              "</style>\n",
              "<table border=\"1\" class=\"dataframe\">\n",
              "  <thead>\n",
              "    <tr style=\"text-align: right;\">\n",
              "      <th></th>\n",
              "      <th>예측값(0)</th>\n",
              "      <th>예측값(1)</th>\n",
              "    </tr>\n",
              "  </thead>\n",
              "  <tbody>\n",
              "    <tr>\n",
              "      <th>실제값(0)</th>\n",
              "      <td>16942</td>\n",
              "      <td>9</td>\n",
              "    </tr>\n",
              "    <tr>\n",
              "      <th>실제값(1)</th>\n",
              "      <td>2526</td>\n",
              "      <td>523</td>\n",
              "    </tr>\n",
              "  </tbody>\n",
              "</table>\n",
              "</div>\n",
              "      <button class=\"colab-df-convert\" onclick=\"convertToInteractive('df-e4e12d6e-f235-4c5b-a6ae-66fdd751de26')\"\n",
              "              title=\"Convert this dataframe to an interactive table.\"\n",
              "              style=\"display:none;\">\n",
              "        \n",
              "  <svg xmlns=\"http://www.w3.org/2000/svg\" height=\"24px\"viewBox=\"0 0 24 24\"\n",
              "       width=\"24px\">\n",
              "    <path d=\"M0 0h24v24H0V0z\" fill=\"none\"/>\n",
              "    <path d=\"M18.56 5.44l.94 2.06.94-2.06 2.06-.94-2.06-.94-.94-2.06-.94 2.06-2.06.94zm-11 1L8.5 8.5l.94-2.06 2.06-.94-2.06-.94L8.5 2.5l-.94 2.06-2.06.94zm10 10l.94 2.06.94-2.06 2.06-.94-2.06-.94-.94-2.06-.94 2.06-2.06.94z\"/><path d=\"M17.41 7.96l-1.37-1.37c-.4-.4-.92-.59-1.43-.59-.52 0-1.04.2-1.43.59L10.3 9.45l-7.72 7.72c-.78.78-.78 2.05 0 2.83L4 21.41c.39.39.9.59 1.41.59.51 0 1.02-.2 1.41-.59l7.78-7.78 2.81-2.81c.8-.78.8-2.07 0-2.86zM5.41 20L4 18.59l7.72-7.72 1.47 1.35L5.41 20z\"/>\n",
              "  </svg>\n",
              "      </button>\n",
              "      \n",
              "  <style>\n",
              "    .colab-df-container {\n",
              "      display:flex;\n",
              "      flex-wrap:wrap;\n",
              "      gap: 12px;\n",
              "    }\n",
              "\n",
              "    .colab-df-convert {\n",
              "      background-color: #E8F0FE;\n",
              "      border: none;\n",
              "      border-radius: 50%;\n",
              "      cursor: pointer;\n",
              "      display: none;\n",
              "      fill: #1967D2;\n",
              "      height: 32px;\n",
              "      padding: 0 0 0 0;\n",
              "      width: 32px;\n",
              "    }\n",
              "\n",
              "    .colab-df-convert:hover {\n",
              "      background-color: #E2EBFA;\n",
              "      box-shadow: 0px 1px 2px rgba(60, 64, 67, 0.3), 0px 1px 3px 1px rgba(60, 64, 67, 0.15);\n",
              "      fill: #174EA6;\n",
              "    }\n",
              "\n",
              "    [theme=dark] .colab-df-convert {\n",
              "      background-color: #3B4455;\n",
              "      fill: #D2E3FC;\n",
              "    }\n",
              "\n",
              "    [theme=dark] .colab-df-convert:hover {\n",
              "      background-color: #434B5C;\n",
              "      box-shadow: 0px 1px 3px 1px rgba(0, 0, 0, 0.15);\n",
              "      filter: drop-shadow(0px 1px 2px rgba(0, 0, 0, 0.3));\n",
              "      fill: #FFFFFF;\n",
              "    }\n",
              "  </style>\n",
              "\n",
              "      <script>\n",
              "        const buttonEl =\n",
              "          document.querySelector('#df-e4e12d6e-f235-4c5b-a6ae-66fdd751de26 button.colab-df-convert');\n",
              "        buttonEl.style.display =\n",
              "          google.colab.kernel.accessAllowed ? 'block' : 'none';\n",
              "\n",
              "        async function convertToInteractive(key) {\n",
              "          const element = document.querySelector('#df-e4e12d6e-f235-4c5b-a6ae-66fdd751de26');\n",
              "          const dataTable =\n",
              "            await google.colab.kernel.invokeFunction('convertToInteractive',\n",
              "                                                     [key], {});\n",
              "          if (!dataTable) return;\n",
              "\n",
              "          const docLinkHtml = 'Like what you see? Visit the ' +\n",
              "            '<a target=\"_blank\" href=https://colab.research.google.com/notebooks/data_table.ipynb>data table notebook</a>'\n",
              "            + ' to learn more about interactive tables.';\n",
              "          element.innerHTML = '';\n",
              "          dataTable['output_type'] = 'display_data';\n",
              "          await google.colab.output.renderOutput(dataTable, element);\n",
              "          const docLink = document.createElement('div');\n",
              "          docLink.innerHTML = docLinkHtml;\n",
              "          element.appendChild(docLink);\n",
              "        }\n",
              "      </script>\n",
              "    </div>\n",
              "  </div>\n",
              "  "
            ]
          },
          "metadata": {},
          "execution_count": 62
        }
      ]
    },
    {
      "cell_type": "code",
      "source": [
        "c_matrix(mf3)"
      ],
      "metadata": {
        "colab": {
          "base_uri": "https://localhost:8080/",
          "height": 147
        },
        "id": "c9YpC8N3cSzb",
        "outputId": "66c341c6-88fe-444d-b8d9-53849fc63842"
      },
      "execution_count": null,
      "outputs": [
        {
          "output_type": "stream",
          "name": "stdout",
          "text": [
            "20000\n",
            "20000\n"
          ]
        },
        {
          "output_type": "execute_result",
          "data": {
            "text/plain": [
              "        예측값(0)  예측값(1)\n",
              "실제값(0)   16885      66\n",
              "실제값(1)    2874     175"
            ],
            "text/html": [
              "\n",
              "  <div id=\"df-7c027085-080b-4dcc-b336-c9cd421bd35e\">\n",
              "    <div class=\"colab-df-container\">\n",
              "      <div>\n",
              "<style scoped>\n",
              "    .dataframe tbody tr th:only-of-type {\n",
              "        vertical-align: middle;\n",
              "    }\n",
              "\n",
              "    .dataframe tbody tr th {\n",
              "        vertical-align: top;\n",
              "    }\n",
              "\n",
              "    .dataframe thead th {\n",
              "        text-align: right;\n",
              "    }\n",
              "</style>\n",
              "<table border=\"1\" class=\"dataframe\">\n",
              "  <thead>\n",
              "    <tr style=\"text-align: right;\">\n",
              "      <th></th>\n",
              "      <th>예측값(0)</th>\n",
              "      <th>예측값(1)</th>\n",
              "    </tr>\n",
              "  </thead>\n",
              "  <tbody>\n",
              "    <tr>\n",
              "      <th>실제값(0)</th>\n",
              "      <td>16885</td>\n",
              "      <td>66</td>\n",
              "    </tr>\n",
              "    <tr>\n",
              "      <th>실제값(1)</th>\n",
              "      <td>2874</td>\n",
              "      <td>175</td>\n",
              "    </tr>\n",
              "  </tbody>\n",
              "</table>\n",
              "</div>\n",
              "      <button class=\"colab-df-convert\" onclick=\"convertToInteractive('df-7c027085-080b-4dcc-b336-c9cd421bd35e')\"\n",
              "              title=\"Convert this dataframe to an interactive table.\"\n",
              "              style=\"display:none;\">\n",
              "        \n",
              "  <svg xmlns=\"http://www.w3.org/2000/svg\" height=\"24px\"viewBox=\"0 0 24 24\"\n",
              "       width=\"24px\">\n",
              "    <path d=\"M0 0h24v24H0V0z\" fill=\"none\"/>\n",
              "    <path d=\"M18.56 5.44l.94 2.06.94-2.06 2.06-.94-2.06-.94-.94-2.06-.94 2.06-2.06.94zm-11 1L8.5 8.5l.94-2.06 2.06-.94-2.06-.94L8.5 2.5l-.94 2.06-2.06.94zm10 10l.94 2.06.94-2.06 2.06-.94-2.06-.94-.94-2.06-.94 2.06-2.06.94z\"/><path d=\"M17.41 7.96l-1.37-1.37c-.4-.4-.92-.59-1.43-.59-.52 0-1.04.2-1.43.59L10.3 9.45l-7.72 7.72c-.78.78-.78 2.05 0 2.83L4 21.41c.39.39.9.59 1.41.59.51 0 1.02-.2 1.41-.59l7.78-7.78 2.81-2.81c.8-.78.8-2.07 0-2.86zM5.41 20L4 18.59l7.72-7.72 1.47 1.35L5.41 20z\"/>\n",
              "  </svg>\n",
              "      </button>\n",
              "      \n",
              "  <style>\n",
              "    .colab-df-container {\n",
              "      display:flex;\n",
              "      flex-wrap:wrap;\n",
              "      gap: 12px;\n",
              "    }\n",
              "\n",
              "    .colab-df-convert {\n",
              "      background-color: #E8F0FE;\n",
              "      border: none;\n",
              "      border-radius: 50%;\n",
              "      cursor: pointer;\n",
              "      display: none;\n",
              "      fill: #1967D2;\n",
              "      height: 32px;\n",
              "      padding: 0 0 0 0;\n",
              "      width: 32px;\n",
              "    }\n",
              "\n",
              "    .colab-df-convert:hover {\n",
              "      background-color: #E2EBFA;\n",
              "      box-shadow: 0px 1px 2px rgba(60, 64, 67, 0.3), 0px 1px 3px 1px rgba(60, 64, 67, 0.15);\n",
              "      fill: #174EA6;\n",
              "    }\n",
              "\n",
              "    [theme=dark] .colab-df-convert {\n",
              "      background-color: #3B4455;\n",
              "      fill: #D2E3FC;\n",
              "    }\n",
              "\n",
              "    [theme=dark] .colab-df-convert:hover {\n",
              "      background-color: #434B5C;\n",
              "      box-shadow: 0px 1px 3px 1px rgba(0, 0, 0, 0.15);\n",
              "      filter: drop-shadow(0px 1px 2px rgba(0, 0, 0, 0.3));\n",
              "      fill: #FFFFFF;\n",
              "    }\n",
              "  </style>\n",
              "\n",
              "      <script>\n",
              "        const buttonEl =\n",
              "          document.querySelector('#df-7c027085-080b-4dcc-b336-c9cd421bd35e button.colab-df-convert');\n",
              "        buttonEl.style.display =\n",
              "          google.colab.kernel.accessAllowed ? 'block' : 'none';\n",
              "\n",
              "        async function convertToInteractive(key) {\n",
              "          const element = document.querySelector('#df-7c027085-080b-4dcc-b336-c9cd421bd35e');\n",
              "          const dataTable =\n",
              "            await google.colab.kernel.invokeFunction('convertToInteractive',\n",
              "                                                     [key], {});\n",
              "          if (!dataTable) return;\n",
              "\n",
              "          const docLinkHtml = 'Like what you see? Visit the ' +\n",
              "            '<a target=\"_blank\" href=https://colab.research.google.com/notebooks/data_table.ipynb>data table notebook</a>'\n",
              "            + ' to learn more about interactive tables.';\n",
              "          element.innerHTML = '';\n",
              "          dataTable['output_type'] = 'display_data';\n",
              "          await google.colab.output.renderOutput(dataTable, element);\n",
              "          const docLink = document.createElement('div');\n",
              "          docLink.innerHTML = docLinkHtml;\n",
              "          element.appendChild(docLink);\n",
              "        }\n",
              "      </script>\n",
              "    </div>\n",
              "  </div>\n",
              "  "
            ]
          },
          "metadata": {},
          "execution_count": 66
        }
      ]
    },
    {
      "cell_type": "code",
      "source": [
        "len(np.unique(datas[2][0]['goodsno']))"
      ],
      "metadata": {
        "colab": {
          "base_uri": "https://localhost:8080/"
        },
        "id": "YyHGHGNUbWsI",
        "outputId": "4c761d0c-764c-4d46-e5d8-b7466cf36e39"
      },
      "execution_count": null,
      "outputs": [
        {
          "output_type": "execute_result",
          "data": {
            "text/plain": [
              "5699"
            ]
          },
          "metadata": {},
          "execution_count": 65
        }
      ]
    },
    {
      "cell_type": "code",
      "source": [
        "R_temp = dog_ratings.pivot(index='m_no', columns='goodsno', values='point').fillna(0)\n",
        "\n",
        "mf3 = NEW_MF(R_temp, K=80, alpha=0.008, beta=0.1, iterations=100, verbose=True)   # MF 클래스 생성 \n",
        "mf3.set_train_val(datas[2][0])\n",
        "mf3.set_test(datas[2][1])\n",
        "mf_result = mf3.test()"
      ],
      "metadata": {
        "colab": {
          "base_uri": "https://localhost:8080/"
        },
        "id": "fE4AFFIDbKl0",
        "outputId": "1ea72f35-bb17-4521-b934-1e03b8ceb48a"
      },
      "execution_count": null,
      "outputs": [
        {
          "output_type": "stream",
          "name": "stdout",
          "text": [
            "Iteration: 10; Training RMSE=0.7510; Val RMSE = 0.7626; Test RMSE = 0.7782\n",
            "Iteration: 20; Training RMSE=0.7422; Val RMSE = 0.7619; Test RMSE = 0.7780\n",
            "Iteration: 30; Training RMSE=0.7353; Val RMSE = 0.7621; Test RMSE = 0.7794\n",
            "Iteration: 40; Training RMSE=0.7222; Val RMSE = 0.7602; Test RMSE = 0.7782\n",
            "Iteration: 50; Training RMSE=0.6998; Val RMSE = 0.7562; Test RMSE = 0.7750\n",
            "Iteration: 60; Training RMSE=0.6699; Val RMSE = 0.7530; Test RMSE = 0.7720\n",
            "Iteration: 70; Training RMSE=0.6362; Val RMSE = 0.7512; Test RMSE = 0.7696\n",
            "Iteration: 80; Training RMSE=0.6039; Val RMSE = 0.7499; Test RMSE = 0.7679\n",
            "Iteration: 90; Training RMSE=0.5770; Val RMSE = 0.7495; Test RMSE = 0.7672\n",
            "Iteration: 100; Training RMSE=0.5556; Val RMSE = 0.7489; Test RMSE = 0.7667\n"
          ]
        }
      ]
    },
    {
      "cell_type": "code",
      "source": [
        "id_pairs = zip(datas[2][1]['m_no'], datas[2][1]['goodsno'])    # id_pairs: (user_id1, goodsno1), (user_id2, goodsno2), (user_id3, goodsno3) 쌍을 얻음 \n",
        "y_pred = np.array([mf3.get_one_prediction(user, item) for (user, item) in id_pairs])   # user_id와 movie_id 값을 이용해 예측 값 계산 \n",
        "# print(y_pred, type(y_pred))\n",
        "y_pred = list(convert_sent(list(y_pred)))\n",
        "y_true = list(convert_sent(datas[2][1]['point']))   # test 데이터의 실제 값 저장 \n",
        "\n",
        "print(classification_report(y_true, y_pred))"
      ],
      "metadata": {
        "id": "73x4nyS6nCnw",
        "colab": {
          "base_uri": "https://localhost:8080/"
        },
        "outputId": "555e6444-631b-4097-b83b-8f97463d311a"
      },
      "execution_count": null,
      "outputs": [
        {
          "output_type": "stream",
          "name": "stdout",
          "text": [
            "20000\n",
            "20000\n",
            "              precision    recall  f1-score   support\n",
            "\n",
            "           0       0.87      1.00      0.93     16951\n",
            "           1       0.99      0.18      0.30      3049\n",
            "\n",
            "    accuracy                           0.87     20000\n",
            "   macro avg       0.93      0.59      0.61     20000\n",
            "weighted avg       0.89      0.87      0.83     20000\n",
            "\n"
          ]
        }
      ]
    },
    {
      "cell_type": "code",
      "source": [
        "def recom_item(user_id, n_items):\n",
        "  '''\n",
        "  사용자 ID, 추천 아이템 수를 넘겨 받아 \n",
        "  주어진 사용자에 대한 아이템을 추천해서 돌려주는 함수 \n",
        "  '''\n",
        "  user_item = R_temp.loc[user_id].copy()\n",
        "  for item in R_temp:\n",
        "    if user_item.loc[item] != 0:\n",
        "      user_item.loc[item] = 0 \n",
        "    else:\n",
        "      user_item.loc[item] = mf3.get_one_prediction(user_id, item)\n",
        "  \n",
        "  item_sort = user_item.sort_values(ascending=False)[:n_items]\n",
        "  recomm_items = dog_item.loc[item_sort.index]\n",
        "  recommendations = recomm_items['goodsnm']\n",
        "  return recommendations\n",
        "\n",
        "recom_item(98380, 5)"
      ],
      "metadata": {
        "colab": {
          "base_uri": "https://localhost:8080/"
        },
        "id": "j2Kw1Estlx9Y",
        "outputId": "a6650f86-dbcb-4104-90f8-34f1578ca52a"
      },
      "execution_count": null,
      "outputs": [
        {
          "output_type": "execute_result",
          "data": {
            "text/plain": [
              "goodsno\n",
              "42047         코리아펫쇼 코펫 VIP 초청장 1매\n",
              "56228           로얄캐닌 미니 스타터 8.5kg\n",
              "20801     아일오브독스 로얄젤리 샴푸 NO.20 1L\n",
              "6112              럭셔리독 양고기 캔 100g\n",
              "82285    캐니대 독 그레인프리 퓨어씨 연어 5.4kg\n",
              "Name: goodsnm, dtype: object"
            ]
          },
          "metadata": {},
          "execution_count": 30
        }
      ]
    },
    {
      "cell_type": "code",
      "source": [
        "from sklearn.metrics import roc_curve\n",
        "\n",
        "def plot_roc_curve(model):\n",
        "  id_pairs = zip(datas[2][1]['m_no'], datas[2][1]['goodsno'])    # id_pairs: (user_id1, goodsno1), (user_id2, goodsno2), (user_id3, goodsno3) 쌍을 얻음 \n",
        "  y_pred = np.array([model.get_one_prediction(user, item) for (user, item) in id_pairs])   # user_id와 movie_id 값을 이용해 예측 값 계산 \n",
        "  # print(y_pred, type(y_pred))\n",
        "  y_pred = list(convert_sent(list(y_pred)))\n",
        "  y_true = list(convert_sent(datas[2][1]['point']))   # test 데이터의 실제 값 저장 \n",
        "\n",
        "  fper, tper, thresholds = roc_curve(y_true, y_pred)\n",
        "\n",
        "  print(thresholds)\n",
        "  plt.plot(fper, tper, color='red', label='ROC')\n",
        "  plt.plot([0, 1], [0, 1], color='green', linestyle='--')\n",
        "  plt.xlabel('False Positive Rate')\n",
        "  plt.ylabel('True Positive Rate')\n",
        "  plt.title('Receiver Operating Characteristic Curve')\n",
        "  plt.legend()\n",
        "  plt.show()\n",
        "\n",
        "plot_roc_curve(mf3)"
      ],
      "metadata": {
        "colab": {
          "base_uri": "https://localhost:8080/",
          "height": 347
        },
        "id": "Wo2aTrmEWNrk",
        "outputId": "c88a2dc2-05f9-4ab0-aba8-ad4c443bd546"
      },
      "execution_count": null,
      "outputs": [
        {
          "output_type": "stream",
          "name": "stdout",
          "text": [
            "20000\n",
            "20000\n",
            "[2 1 0]\n"
          ]
        },
        {
          "output_type": "display_data",
          "data": {
            "text/plain": [
              "<Figure size 432x288 with 1 Axes>"
            ],
            "image/png": "[encoded data removed]"
          },
          "metadata": {
            "needs_background": "light"
          }
        }
      ]
    },
    {
      "cell_type": "code",
      "source": [
        "plot_roc_curve(mf)"
      ],
      "metadata": {
        "colab": {
          "base_uri": "https://localhost:8080/",
          "height": 347
        },
        "id": "E5SZa0M_YNrF",
        "outputId": "b9f9017d-c878-4aad-e082-0d3c74617cf8"
      },
      "execution_count": null,
      "outputs": [
        {
          "output_type": "stream",
          "name": "stdout",
          "text": [
            "20000\n",
            "20000\n",
            "[2 1 0]\n"
          ]
        },
        {
          "output_type": "display_data",
          "data": {
            "text/plain": [
              "<Figure size 432x288 with 1 Axes>"
            ],
            "image/png": "[encoded data removed]"
          },
          "metadata": {
            "needs_background": "light"
          }
        }
      ]
    },
    {
      "cell_type": "code",
      "source": [
        ""
      ],
      "metadata": {
        "id": "qhuEBfieZ_nO"
      },
      "execution_count": null,
      "outputs": []
    }
  ]
}